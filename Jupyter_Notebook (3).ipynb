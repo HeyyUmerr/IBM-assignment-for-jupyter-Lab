{
 "cells": [
  {
   "cell_type": "markdown",
   "metadata": {},
   "source": [
    " <h1>My Jupyter Notebook on IBM Watson Studio<h1>\n",
    " "
   ]
  },
  {
   "cell_type": "markdown",
   "metadata": {},
   "source": [
    "**Umer Khan**\n",
    "<br>Data Scientist<br>"
   ]
  },
  {
   "cell_type": "markdown",
   "metadata": {},
   "source": [
    "*I want to be data scientist because it is an emerging field.*"
   ]
  },
  {
   "cell_type": "markdown",
   "metadata": {},
   "source": [
    "<h3>Below I am presenting a code of simple addition<h3>"
   ]
  },
  {
   "cell_type": "code",
   "execution_count": 1,
   "metadata": {},
   "outputs": [
    {
     "data": {
      "text/plain": [
       "2"
      ]
     },
     "execution_count": 1,
     "metadata": {},
     "output_type": "execute_result"
    }
   ],
   "source": [
    "1+1"
   ]
  },
  {
   "cell_type": "markdown",
   "metadata": {},
   "source": [
    "* Bullet List Item 01\n",
    "\n",
    "* Bullet List Item 02\n",
    "\n",
    "* Bullet List Item 03\n",
    "\n",
    "1. Numbered List Item 01\n",
    "\n",
    "2. Numbered List Item 02\n",
    "\n",
    "3. Numbered List Item 03\n",
    "\n",
    "| Column 01 | Column 02 | Column 03 | Column 04 | Column 05 |\n",
    "\n",
    "|-----------|-----------|-----------|-----------|-----------|\n",
    "\n",
    "| Cell 11 | Cell 12 | Cell 13 | Cell 14 | Cell 15 |\n",
    "\n",
    "| Cell 21 | Cell 22 | Cell 23 | Cell 24 | Cell 25 |"
   ]
  }
 ],
 "metadata": {
  "kernelspec": {
   "display_name": "Python",
   "language": "python",
   "name": "conda-env-python-py"
  },
  "language_info": {
   "codemirror_mode": {
    "name": "ipython",
    "version": 3
   },
   "file_extension": ".py",
   "mimetype": "text/x-python",
   "name": "python",
   "nbconvert_exporter": "python",
   "pygments_lexer": "ipython3",
   "version": "3.7.12"
  },
  "toc-autonumbering": true,
  "toc-showcode": true,
  "toc-showmarkdowntxt": true,
  "toc-showtags": false
 },
 "nbformat": 4,
 "nbformat_minor": 4
}
